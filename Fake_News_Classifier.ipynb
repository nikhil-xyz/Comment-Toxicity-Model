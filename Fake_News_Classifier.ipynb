{
  "nbformat": 4,
  "nbformat_minor": 0,
  "metadata": {
    "colab": {
      "provenance": [],
      "authorship_tag": "ABX9TyNhXjmg5Ejq79IVwN4zSp1E",
      "include_colab_link": true
    },
    "kernelspec": {
      "name": "python3",
      "display_name": "Python 3"
    },
    "language_info": {
      "name": "python"
    }
  },
  "cells": [
    {
      "cell_type": "markdown",
      "metadata": {
        "id": "view-in-github",
        "colab_type": "text"
      },
      "source": [
        "<a href=\"https://colab.research.google.com/github/nikhil-xyz/Natural_Language_Processing/blob/main/Fake_News_Classifier.ipynb\" target=\"_parent\"><img src=\"https://colab.research.google.com/assets/colab-badge.svg\" alt=\"Open In Colab\"/></a>"
      ]
    },
    {
      "cell_type": "code",
      "execution_count": 1,
      "metadata": {
        "colab": {
          "base_uri": "https://localhost:8080/"
        },
        "id": "8VwKzFrTialp",
        "outputId": "363b8a33-f091-4a45-caeb-b8c5f20830c5"
      },
      "outputs": [
        {
          "output_type": "stream",
          "name": "stdout",
          "text": [
            "Cloning into 'Natural_Language_Processing'...\n",
            "remote: Enumerating objects: 23, done.\u001b[K\n",
            "remote: Counting objects: 100% (23/23), done.\u001b[K\n",
            "remote: Compressing objects: 100% (16/16), done.\u001b[K\n",
            "remote: Total 23 (delta 4), reused 14 (delta 3), pack-reused 0\u001b[K\n",
            "Unpacking objects: 100% (23/23), done.\n"
          ]
        }
      ],
      "source": [
        "!git clone https://github.com/nikhil-xyz/Natural_Language_Processing.git"
      ]
    },
    {
      "cell_type": "code",
      "source": [
        "import pandas as pd"
      ],
      "metadata": {
        "id": "VJvyg8mylhNW"
      },
      "execution_count": 2,
      "outputs": []
    },
    {
      "cell_type": "code",
      "source": [
        "df = pd.read_csv('/content/Natural_Language_Processing/data/Fake_News_Classifier/Fake_news.csv')"
      ],
      "metadata": {
        "id": "GaOhZIiklp1S"
      },
      "execution_count": 3,
      "outputs": []
    },
    {
      "cell_type": "code",
      "source": [
        "df = df.dropna()"
      ],
      "metadata": {
        "id": "YHk6JlKtlzzx"
      },
      "execution_count": 7,
      "outputs": []
    },
    {
      "cell_type": "code",
      "source": [
        "X = df.drop('Label', axis=1)\n",
        "y = df['Label']"
      ],
      "metadata": {
        "id": "6r9nff8jl1lD"
      },
      "execution_count": 9,
      "outputs": []
    },
    {
      "cell_type": "code",
      "source": [
        "import tensorflow as tf"
      ],
      "metadata": {
        "id": "OsxC4ZbcnUQs"
      },
      "execution_count": 12,
      "outputs": []
    },
    {
      "cell_type": "code",
      "source": [
        "from tensorflow.keras.layers import Embedding, LSTM, Dense\n",
        "from tensorflow.keras.preprocessing.sequence import pad_sequences\n",
        "from tensorflow.keras.models import Sequential\n",
        "from tensorflow.keras.preprocessing.text import one_hot"
      ],
      "metadata": {
        "id": "L430deTpnqns"
      },
      "execution_count": 13,
      "outputs": []
    },
    {
      "cell_type": "code",
      "source": [
        "vocab_size = 5000"
      ],
      "metadata": {
        "id": "Y3HBIbj-oc68"
      },
      "execution_count": 14,
      "outputs": []
    },
    {
      "cell_type": "code",
      "source": [
        "messages = X.copy()\n",
        "messages.reset_index(inplace=True)"
      ],
      "metadata": {
        "id": "O4l2tBsTojwF"
      },
      "execution_count": 15,
      "outputs": []
    },
    {
      "cell_type": "code",
      "source": [
        "import re\n",
        "import nltk\n",
        "nltk.download('stopwords')\n",
        "from nltk.corpus import stopwords"
      ],
      "metadata": {
        "colab": {
          "base_uri": "https://localhost:8080/"
        },
        "id": "4mQuD06yo5Hg",
        "outputId": "e9a7d829-0026-4501-9507-18456ba2d65c"
      },
      "execution_count": 16,
      "outputs": [
        {
          "output_type": "stream",
          "name": "stderr",
          "text": [
            "[nltk_data] Downloading package stopwords to /root/nltk_data...\n",
            "[nltk_data]   Unzipping corpora/stopwords.zip.\n"
          ]
        }
      ]
    },
    {
      "cell_type": "code",
      "source": [
        "from nltk.stem.porter import PorterStemmer\n",
        "ps = PorterStemmer()\n",
        "corpus = []\n",
        "for i in range(len(messages)):\n",
        "  review = re.sub('[^a-zA-Z]', ' ', messages['Body'][i])\n",
        "  review = review.lower()\n",
        "  review = review.split()\n",
        "\n",
        "  review = [ps.stem(word) for word in review if not word in stopwords.words('english')]\n",
        "  review = ' '.join(review)\n",
        "  corpus.append(review)"
      ],
      "metadata": {
        "id": "VYxQMMlppRzz"
      },
      "execution_count": 47,
      "outputs": []
    },
    {
      "cell_type": "code",
      "source": [
        "corpus[0]"
      ],
      "metadata": {
        "colab": {
          "base_uri": "https://localhost:8080/",
          "height": 35
        },
        "id": "jctRxbwxtgFz",
        "outputId": "ba5e1a99-e1ad-4da6-a196-56be9ff84741"
      },
      "execution_count": 21,
      "outputs": [
        {
          "output_type": "execute_result",
          "data": {
            "text/plain": [
              "'four way bob corker skewer donald trump'"
            ],
            "application/vnd.google.colaboratory.intrinsic+json": {
              "type": "string"
            }
          },
          "metadata": {},
          "execution_count": 21
        }
      ]
    },
    {
      "cell_type": "code",
      "source": [
        "onehot_rep = [one_hot(words, vocab_size) for words in corpus]"
      ],
      "metadata": {
        "id": "w86dHFXqqvYy"
      },
      "execution_count": 48,
      "outputs": []
    },
    {
      "cell_type": "code",
      "source": [
        "sentence_len = 2000"
      ],
      "metadata": {
        "id": "dyj_6Egfr5g7"
      },
      "execution_count": 23,
      "outputs": []
    },
    {
      "cell_type": "code",
      "source": [
        "embedded_docs = pad_sequences(onehot_rep, padding='pre', maxlen=sentence_len)"
      ],
      "metadata": {
        "id": "4C0LiKd9tz4V"
      },
      "execution_count": 49,
      "outputs": []
    },
    {
      "cell_type": "code",
      "source": [
        "len(embedded_docs)"
      ],
      "metadata": {
        "colab": {
          "base_uri": "https://localhost:8080/"
        },
        "id": "ezI-jnSGuXFU",
        "outputId": "58cefa4f-d94b-4835-ba97-5006482f4675"
      },
      "execution_count": 26,
      "outputs": [
        {
          "output_type": "execute_result",
          "data": {
            "text/plain": [
              "3988"
            ]
          },
          "metadata": {},
          "execution_count": 26
        }
      ]
    },
    {
      "cell_type": "code",
      "source": [
        "embedding_vector_features = 100\n",
        "model = Sequential()\n",
        "model.add(Embedding(vocab_size, embedding_vector_features, input_length=sentence_len))\n",
        "model.add(LSTM(200))\n",
        "model.add(Dense(1, activation='sigmoid'))"
      ],
      "metadata": {
        "id": "umTphWkHuZMK"
      },
      "execution_count": 55,
      "outputs": []
    },
    {
      "cell_type": "code",
      "source": [
        "model.compile(loss='binary_crossentropy', optimizer='adam', metrics=['accuracy'])"
      ],
      "metadata": {
        "id": "rWZkmXjnvi22"
      },
      "execution_count": 56,
      "outputs": []
    },
    {
      "cell_type": "code",
      "source": [
        "import numpy as np\n",
        "X = np.array(embedded_docs)\n",
        "y = np.array(y)"
      ],
      "metadata": {
        "id": "12olD_cbwehF"
      },
      "execution_count": 57,
      "outputs": []
    },
    {
      "cell_type": "code",
      "source": [
        "X.shape"
      ],
      "metadata": {
        "colab": {
          "base_uri": "https://localhost:8080/"
        },
        "id": "OeHrBmY-xQdI",
        "outputId": "e17a86c4-db72-44f2-b831-34886241ce30"
      },
      "execution_count": 44,
      "outputs": [
        {
          "output_type": "execute_result",
          "data": {
            "text/plain": [
              "(3988, 20)"
            ]
          },
          "metadata": {},
          "execution_count": 44
        }
      ]
    },
    {
      "cell_type": "code",
      "source": [
        "y.shape"
      ],
      "metadata": {
        "colab": {
          "base_uri": "https://localhost:8080/"
        },
        "id": "pUYPtWGfxUYM",
        "outputId": "01282658-80f4-42b0-e6e6-6fbd3f6a9bf9"
      },
      "execution_count": 36,
      "outputs": [
        {
          "output_type": "execute_result",
          "data": {
            "text/plain": [
              "(3988,)"
            ]
          },
          "metadata": {},
          "execution_count": 36
        }
      ]
    },
    {
      "cell_type": "code",
      "source": [
        "from sklearn.model_selection import train_test_split\n",
        "X_train, X_test, y_train, y_test = train_test_split(X, y, test_size = 0.2, random_state=5)"
      ],
      "metadata": {
        "id": "k_5LOMjMxXo0"
      },
      "execution_count": 58,
      "outputs": []
    },
    {
      "cell_type": "code",
      "source": [
        "model.fit(X_train, y_train, validation_data=(X_test, y_test), epochs=10)"
      ],
      "metadata": {
        "colab": {
          "base_uri": "https://localhost:8080/"
        },
        "id": "HjsUphZtx0m6",
        "outputId": "ba488230-b27f-494a-9f29-b8b457a8f0cf"
      },
      "execution_count": 59,
      "outputs": [
        {
          "output_type": "stream",
          "name": "stdout",
          "text": [
            "Epoch 1/10\n",
            "100/100 [==============================] - 6s 49ms/step - loss: 0.2535 - accuracy: 0.9050 - val_loss: 0.1112 - val_accuracy: 0.9599\n",
            "Epoch 2/10\n",
            "100/100 [==============================] - 4s 45ms/step - loss: 0.0356 - accuracy: 0.9878 - val_loss: 0.0962 - val_accuracy: 0.9687\n",
            "Epoch 3/10\n",
            "100/100 [==============================] - 5s 45ms/step - loss: 0.0078 - accuracy: 0.9984 - val_loss: 0.1201 - val_accuracy: 0.9662\n",
            "Epoch 4/10\n",
            "100/100 [==============================] - 4s 45ms/step - loss: 5.0556e-04 - accuracy: 1.0000 - val_loss: 0.1589 - val_accuracy: 0.9624\n",
            "Epoch 5/10\n",
            "100/100 [==============================] - 4s 44ms/step - loss: 1.8440e-04 - accuracy: 1.0000 - val_loss: 0.2110 - val_accuracy: 0.9649\n",
            "Epoch 6/10\n",
            "100/100 [==============================] - 4s 43ms/step - loss: 1.3192e-04 - accuracy: 1.0000 - val_loss: 0.2246 - val_accuracy: 0.9637\n",
            "Epoch 7/10\n",
            "100/100 [==============================] - 5s 48ms/step - loss: 8.4182e-05 - accuracy: 1.0000 - val_loss: 0.2440 - val_accuracy: 0.9624\n",
            "Epoch 8/10\n",
            "100/100 [==============================] - 4s 44ms/step - loss: 5.7444e-05 - accuracy: 1.0000 - val_loss: 0.2482 - val_accuracy: 0.9624\n",
            "Epoch 9/10\n",
            "100/100 [==============================] - 4s 43ms/step - loss: 5.0054e-05 - accuracy: 1.0000 - val_loss: 0.2647 - val_accuracy: 0.9624\n",
            "Epoch 10/10\n",
            "100/100 [==============================] - 4s 44ms/step - loss: 3.8730e-05 - accuracy: 1.0000 - val_loss: 0.2763 - val_accuracy: 0.9624\n"
          ]
        },
        {
          "output_type": "execute_result",
          "data": {
            "text/plain": [
              "<keras.callbacks.History at 0x7fe46ab38760>"
            ]
          },
          "metadata": {},
          "execution_count": 59
        }
      ]
    },
    {
      "cell_type": "code",
      "source": [],
      "metadata": {
        "id": "huC_zujgyMhu"
      },
      "execution_count": null,
      "outputs": []
    }
  ]
}